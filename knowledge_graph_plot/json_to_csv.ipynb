{
 "cells": [
  {
   "cell_type": "code",
   "execution_count": 3,
   "metadata": {},
   "outputs": [],
   "source": [
    "import json\n",
    "import csv\n",
    "\n",
    "def json_to_csv(json_file, csv_file, encoding='utf-8'):\n",
    "    with open(json_file, 'r', encoding=encoding) as f:\n",
    "        data = json.load(f)\n",
    "    \n",
    "    with open(csv_file, 'w', newline='', encoding=encoding) as f:\n",
    "        writer = csv.writer(f)\n",
    "        \n",
    "        headers = list(data[0].keys())\n",
    "        writer.writerow(headers)\n",
    "        \n",
    "        \n",
    "        for item in data:\n",
    "            writer.writerow(item.values())\n",
    "\n",
    "\n",
    "json_file = 'D:\\AISocialtechnique\\数据处理\\patent_final_filter.json'  \n",
    "csv_file = 'D:\\AISocialtechnique\\数据处理\\专利数据.csv'    \n",
    "\n",
    "json_to_csv(json_file, csv_file)\n"
   ]
  },
  {
   "cell_type": "code",
   "execution_count": 4,
   "metadata": {},
   "outputs": [],
   "source": [
    "def extract_triples(json_data):\n",
    "    triples = []\n",
    "    for data in json_data:\n",
    "        triples.append([\n",
    "            data['triple']['patent']['enterprise_name'],\n",
    "            data['triple']['patent']['patent_name'],\n",
    "            data['triple']['patent']['relationship']\n",
    "        ])\n",
    "    return triples\n",
    "\n",
    "def write_to_csv(triples, csv_file):\n",
    "    with open(csv_file, 'w', newline='', encoding='utf-8') as csvfile:\n",
    "        writer = csv.writer(csvfile)\n",
    "        writer.writerow(['a','b','relationship'])\n",
    "        writer.writerows(triples)\n",
    "\n",
    "\n",
    "\n",
    "json_file = 'D:\\AISocialtechnique\\数据处理\\patent_final_triple_filter.json'  \n",
    "csv_file = r'D:\\AISocialtechnique\\数据处理\\relation.csv' \n",
    "with open(json_file, 'r', encoding='utf-8') as f:\n",
    "    json_data = json.load(f)\n",
    "\n",
    "\n",
    "triples = extract_triples(json_data)\n",
    "write_to_csv(triples, csv_file)\n"
   ]
  },
  {
   "cell_type": "code",
   "execution_count": 1,
   "metadata": {},
   "outputs": [],
   "source": [
    "import json\n",
    "\n",
    "exclude = [\n",
    "    \"计算机零部件制造\",\n",
    "    \"广播电视节目制作及发射设备制造\",\n",
    "    \"其他计算机制造\",\n",
    "    \"其他文化、办公用机械制造\"\n",
    "]\n",
    "\n",
    "with open('D:\\AISocialtechnique\\数据处理\\patent_final.json', 'r', encoding='utf-8') as file:\n",
    "    data = json.load(file)\n",
    "\n",
    "# 过滤掉符合排除条件的条目\n",
    "filtered_data = [item for item in data if item['国民经济行业分类名称'] not in exclude]\n",
    "\n",
    "# 将过滤后的数据写入新的JSON文件\n",
    "with open('D:\\AISocialtechnique\\数据处理\\patent_final_filter.json', 'w', encoding='utf-8') as file:\n",
    "    json.dump(filtered_data, file, ensure_ascii=False, indent=4)\n",
    "\n"
   ]
  },
  {
   "cell_type": "code",
   "execution_count": 2,
   "metadata": {},
   "outputs": [],
   "source": [
    "import json\n",
    "\n",
    "exclude = [\n",
    "    \"计算机零部件制造\",\n",
    "    \"广播电视节目制作及发射设备制造\",\n",
    "    \"其他计算机制造\",\n",
    "    \"其他文化、办公用机械制造\"\n",
    "]\n",
    "\n",
    "with open('D:\\AISocialtechnique\\数据处理\\patent_final_triple.json', 'r', encoding='utf-8') as file:\n",
    "    data = json.load(file)\n",
    "\n",
    "# 过滤掉符合排除条件的条目\n",
    "filtered_data = [item for item in data if item['国民经济行业分类名称'] not in exclude]\n",
    "\n",
    "# 将过滤后的数据写入新的JSON文件\n",
    "with open('D:\\AISocialtechnique\\数据处理\\patent_final_triple_filter.json', 'w', encoding='utf-8') as file:\n",
    "    json.dump(filtered_data, file, ensure_ascii=False, indent=4)\n",
    "\n"
   ]
  }
 ],
 "metadata": {
  "kernelspec": {
   "display_name": "linear",
   "language": "python",
   "name": "python3"
  },
  "language_info": {
   "codemirror_mode": {
    "name": "ipython",
    "version": 3
   },
   "file_extension": ".py",
   "mimetype": "text/x-python",
   "name": "python",
   "nbconvert_exporter": "python",
   "pygments_lexer": "ipython3",
   "version": "3.8.18"
  }
 },
 "nbformat": 4,
 "nbformat_minor": 2
}
