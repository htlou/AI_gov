{
 "cells": [
  {
   "cell_type": "code",
   "execution_count": null,
   "metadata": {},
   "outputs": [],
   "source": [
    "from neo4j import GraphDatabase\n",
    "import csv\n",
    "\n",
    "# 连接到 Neo4j 数据库\n",
    "uri = \"\"\n",
    "username = \"\"\n",
    "password = \"\"\n",
    "\n",
    "driver = GraphDatabase.driver(uri, auth=(username, password))\n",
    "\n",
    "# 加载数据到 Neo4j 数据库\n",
    "def create_nodes_from_csv(tx, filename, name_index):\n",
    "    with open(filename, 'r', encoding='utf-8') as file:\n",
    "        reader = csv.reader(file)\n",
    "        headers = next(reader)\n",
    "        for row in reader:\n",
    "            node_properties = {headers[i]: row[i] for i in range(len(headers))}\n",
    "            node_name = row[name_index]\n",
    "            tx.run(\"CREATE (n:Patent {name: $name}) SET n = $props\", name=node_name, props=node_properties)\n",
    "def create_relationships_from_csv(tx, filename):\n",
    "    with open(filename, 'r', encoding='utf-8') as file:\n",
    "        reader = csv.reader(file)\n",
    "        for row in reader:\n",
    "            relation_type = row[2]  # 假设第三列存储的是关系类型\n",
    "            # 使用 APOC 创建动态关系\n",
    "            tx.run(\"\"\"\n",
    "                MATCH (start:Enterprise {name: $start_name})\n",
    "                MATCH (end:Patent {name: $end_name})\n",
    "                CALL apoc.create.relationship(start, $relation_type, {}, end) YIELD rel\n",
    "                RETURN rel\n",
    "            \"\"\", parameters={'start_name': row[0], 'end_name': row[1], 'relation_type': relation_type})\n",
    "\n",
    "with driver.session() as session:\n",
    "    session.write_transaction(create_nodes_from_csv, \"D:\\AISocialtechnique\\数据处理\\专利数据.csv\",1)\n",
    "    session.write_transaction(create_relationships_from_csv, \"D:\\AISocialtechnique\\数据处理\\relation.csv\")\n",
    "    \n",
    "\n"
   ]
  }
 ],
 "metadata": {
  "kernelspec": {
   "display_name": "linear",
   "language": "python",
   "name": "python3"
  },
  "language_info": {
   "codemirror_mode": {
    "name": "ipython",
    "version": 3
   },
   "file_extension": ".py",
   "mimetype": "text/x-python",
   "name": "python",
   "nbconvert_exporter": "python",
   "pygments_lexer": "ipython3",
   "version": "3.8.18"
  }
 },
 "nbformat": 4,
 "nbformat_minor": 2
}
