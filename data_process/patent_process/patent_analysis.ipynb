{
 "cells": [
  {
   "cell_type": "markdown",
   "metadata": {},
   "source": [
    "## The analysis of patent\n",
    "### 主要是分析企业的专利数量、研发投入等，借此分析企业的创新水平"
   ]
  },
  {
   "cell_type": "code",
   "execution_count": null,
   "metadata": {},
   "outputs": [],
   "source": [
    "# 根据国标-国家经济行业分类 https://www.mca.gov.cn/images3/www/file/201711/1509495881341.pdf\n",
    "# 进行patent初步筛选: 国民经济行业分类代码,国民经济行业分类名称\n",
    "\n",
    "from collections import Counter\n",
    "import json\n",
    "from tqdm import tqdm\n",
    "import os\n",
    "from patent_utils import get_output_file_name\n",
    "from patent_utils import is_chinese\n",
    "\n",
    "input_directory = '/mntmodels/boyuan/learnspace/AI_gov/raw_data/research_data/patent_data_all/data_json_filtered'\n",
    "output_directory = '/mntmodels/boyuan/learnspace/AI_gov/raw_data/research_data/patent_data_all/data_json_GB_filtered'\n",
    "os.makedirs(output_directory, exist_ok=True)\n",
    "\n",
    "def filter_GB(category_code):\n",
    "    # 采矿业\n",
    "    # print(type(category_code))\n",
    "    if category_code > 600 and category_code < 1300:\n",
    "        return 1\n",
    "    # 制造业\n",
    "    if category_code > 3200 and category_code < 4200:\n",
    "        return 1\n",
    "    return 0\n",
    "\n",
    "\n",
    "def check(patent_data):\n",
    "    '''\n",
    "    检查Patent Data 中是否有违规的数据\n",
    "    '''\n",
    "    # 检查筛选键值是否存在异常取值\n",
    "    key='国民经济行业分类代码'\n",
    "    values = [item[key] for item in patent_data if key in item]\n",
    "\n",
    "    counter = Counter(values)\n",
    "\n",
    "    print(counter)\n",
    "    print(len(counter))\n",
    "\n",
    "    # 检查int转化是否有效\n",
    "    entry = patent_data[0]\n",
    "    print(int(entry['国民经济行业分类代码']))\n",
    "    print(entry['国民经济行业分类代码'])\n",
    "\n",
    "\n",
    "for root, dirs, files in os.walk(input_directory):\n",
    "    for file in tqdm(files):\n",
    "        if file.endswith('.json'):\n",
    "            patent_input = os.path.join(root, file)\n",
    "        else:\n",
    "            continue\n",
    "        print('\\n\\n')\n",
    "        print('**'*60)\n",
    "        with open(patent_input,'r') as f:\n",
    "            patent_data = json.load(f)\n",
    "        check(patent_data)\n",
    "        new_patent_data = []\n",
    "        flag = 1\n",
    "        for entry in patent_data:\n",
    "            # 有些数据里存在该键值为空或者不是float是str的情况，需要进行额外筛选\n",
    "            if entry['国民经济行业分类代码'] is None:\n",
    "                continue\n",
    "            \n",
    "            # 检查是否为中文字符串\n",
    "            if type(entry ['国民经济行业分类代码']) is str and is_chinese(entry['国民经济行业分类代码']):\n",
    "                continue\n",
    "            \n",
    "            try:\n",
    "                category_id_float = float(entry['国民经济行业分类代码'])\n",
    "                # 可以在这里添加转换成功后的处理，例如添加到新列表中\n",
    "                if filter_GB(int(category_id_float)) == 1:\n",
    "                    new_patent_data.append(entry)\n",
    "            except ValueError:\n",
    "                # 如果转换失败（即不是有效的数字字符串），可以在这里处理或者跳过\n",
    "                continue\n",
    "                \n",
    "        print(f'Total Number for original data: {len(patent_data)}')\n",
    "        print(f'Total Number after GB filterd:{len(new_patent_data)}')\n",
    "\n",
    "        # 构造输出文件的完整路径\n",
    "        output_file_name = get_output_file_name(file)\n",
    "        output_file_path = os.path.join(output_directory, output_file_name)\n",
    "        \n",
    "        # 将提取的数据保存到新的JSON文件中\n",
    "        with open(output_file_path, 'w', encoding='utf-8') as output_file:\n",
    "            json.dump(new_patent_data, output_file, ensure_ascii=False, indent=4)\n",
    "\n",
    "        print(f\"Filtered data have been saved to {output_file_path}\")\n",
    "        print('**'*60) \n"
   ]
  },
  {
   "cell_type": "code",
   "execution_count": null,
   "metadata": {},
   "outputs": [],
   "source": [
    "# 再进行完GB筛选后，首先进行一波数据分析\n",
    "# 分析申请人的组成成分,比如企业 \\ 个人 \\ NoneType等\n",
    "# 这里最后可以出一个热力图，统计各个patent数据的键值分布情况,同时把其他的键值不对的情况处理了（比如申请人类型是日期的）\n",
    "# 统计一下原始数据分布情况和筛选后数据分布情况\n",
    "\n",
    "from collections import Counter\n",
    "import json\n",
    "\n",
    "\n",
    "input_directory = '/mntmodels/boyuan/learnspace/AI_gov/raw_data/research_data/patent_data_all/data_json_GB_filtered'\n",
    "\n",
    "for root, dirs, files in os.walk(input_directory):\n",
    "    for file in tqdm(files):\n",
    "        if file.endswith('.json'):\n",
    "            patent_input = os.path.join(root, file)\n",
    "        else:\n",
    "            continue\n",
    "        print('\\n\\n')\n",
    "        print('**'*60)\n",
    "        with open(patent_input,'r') as f:\n",
    "            patent_data = json.load(f)\n",
    "        key = '申请人类型'\n",
    "        values = [item[key] for item in patent_data if key in item]\n",
    "        counter = Counter(values)\n",
    "        print(counter)\n",
    "        print('**'*60)\n",
    "\n",
    "\n",
    "        "
   ]
  },
  {
   "cell_type": "markdown",
   "metadata": {},
   "source": [
    "### 由结果惊喜的发现，之前看到的申请人类型是nonetype的，在筛选国民经济行业分类代码的时候同步也被筛掉了"
   ]
  },
  {
   "cell_type": "code",
   "execution_count": 4,
   "metadata": {},
   "outputs": [
    {
     "name": "stdout",
     "output_type": "stream",
     "text": [
      "['武汉市鑫力荣物资再生有限公司', '武汉滨水东熠进出口服务有限公司', '武汉品瀚电子商务商行', '武汉文鸿汽车服务有限公司', '湖北华屹企业管理咨询有限公司', '湖北振意贸易有限公司', '湖北鑫润旺六口茶农业科技有限公司', '武汉柏雍电子商务商行', '湖北民生石油液化气有限公司武汉常码头加气站', '武汉康通运输有限公司']\n",
      "Total Number for namelist:97810\n"
     ]
    }
   ],
   "source": [
    "# 接下来进行正式的处理，采取专利匹配操作和知识图谱构建\n",
    "\n",
    "# 首先从工商企业数据得到作参考的name_list\n",
    "import json\n",
    "\n",
    "reference_input = '/mntmodels/boyuan/learnspace/AI_gov/raw_data/research_data/business_info/output_extracted_new.json'\n",
    "with open(reference_input,'r') as f:\n",
    "    reference_data = json.load(f)\n",
    "name_list = []\n",
    "for entry in reference_data:\n",
    "    name_list.append(\n",
    "        entry['origin_info']['name']\n",
    "    )\n",
    "print(name_list[0:10])\n",
    "print(f'Total Number for namelist:{len(name_list)}')"
   ]
  },
  {
   "cell_type": "markdown",
   "metadata": {},
   "source": [
    "### 分析：为什么专利数据这么少，其实大概就是少：\n",
    "### 1. 专利数据是国家专利局的数据，不是光谷的数据，所以其实还要做一个潜在筛选武汉的公司（其实直接和武汉市企业工商信息匹配就可以了）\n",
    "### 2. 大概可以去遍历所有的专利数据，最后只保留总的，不用每年都保留"
   ]
  },
  {
   "cell_type": "code",
   "execution_count": 6,
   "metadata": {},
   "outputs": [
    {
     "name": "stderr",
     "output_type": "stream",
     "text": [
      "100%|██████████| 359309/359309 [07:31<00:00, 796.06it/s]\n"
     ]
    },
    {
     "name": "stdout",
     "output_type": "stream",
     "text": [
      "Total Number for patent - enterprise: 734\n"
     ]
    },
    {
     "name": "stderr",
     "output_type": "stream",
     "text": [
      "100%|██████████| 281426/281426 [05:58<00:00, 784.65it/s]\n"
     ]
    },
    {
     "name": "stdout",
     "output_type": "stream",
     "text": [
      "Total Number for patent - enterprise: 281\n"
     ]
    },
    {
     "name": "stderr",
     "output_type": "stream",
     "text": [
      "100%|██████████| 257725/257725 [05:28<00:00, 784.93it/s]\n"
     ]
    },
    {
     "name": "stdout",
     "output_type": "stream",
     "text": [
      "Total Number for patent - enterprise: 128\n"
     ]
    },
    {
     "name": "stderr",
     "output_type": "stream",
     "text": [
      "100%|██████████| 270035/270035 [05:37<00:00, 800.93it/s]\n"
     ]
    },
    {
     "name": "stdout",
     "output_type": "stream",
     "text": [
      "Total Number for patent - enterprise: 247\n"
     ]
    },
    {
     "name": "stderr",
     "output_type": "stream",
     "text": [
      "100%|██████████| 80374/80374 [01:38<00:00, 811.93it/s]\n"
     ]
    },
    {
     "name": "stdout",
     "output_type": "stream",
     "text": [
      "Total Number for patent - enterprise: 19\n"
     ]
    },
    {
     "name": "stderr",
     "output_type": "stream",
     "text": [
      "100%|██████████| 308591/308591 [06:24<00:00, 802.61it/s]"
     ]
    },
    {
     "name": "stdout",
     "output_type": "stream",
     "text": [
      "Total Number for patent - enterprise: 556\n"
     ]
    },
    {
     "name": "stderr",
     "output_type": "stream",
     "text": [
      "\n"
     ]
    }
   ],
   "source": [
    "\n",
    "# 进行正式的数据分析，根据上面得到的name_list 过所有的GB_filtered json files 筛选出所有‘武汉光谷’的专利申请数据\n",
    "\n",
    "from collections import Counter\n",
    "import json\n",
    "import os\n",
    "from tqdm import tqdm\n",
    "\n",
    "input_directory = '/mntmodels/boyuan/learnspace/AI_gov/raw_data/research_data/patent_data_all/data_json_GB_filtered'\n",
    "\n",
    "patent_enter_data = []\n",
    "for root, dirs, files in os.walk(input_directory):\n",
    "    for file in files:\n",
    "        if file.endswith('.json'):\n",
    "            patent_input = os.path.join(root, file)\n",
    "        else:\n",
    "            continue\n",
    "        with open(patent_input,'r') as f:\n",
    "            patent_data = json.load(f)\n",
    "        cnt = 0\n",
    "        for patent_entry in tqdm(patent_data):\n",
    "            if patent_entry['主申请人名称'] in name_list:\n",
    "                patent_enter_data.append(patent_entry)\n",
    "                cnt += 1\n",
    "        print(f'Total Number for patent - enterprise: {cnt}')"
   ]
  },
  {
   "cell_type": "code",
   "execution_count": 2,
   "metadata": {},
   "outputs": [
    {
     "ename": "NameError",
     "evalue": "name 'patent_enter_data' is not defined",
     "output_type": "error",
     "traceback": [
      "\u001b[0;31m---------------------------------------------------------------------------\u001b[0m",
      "\u001b[0;31mNameError\u001b[0m                                 Traceback (most recent call last)",
      "Cell \u001b[0;32mIn[2], line 4\u001b[0m\n\u001b[1;32m      2\u001b[0m output_file \u001b[38;5;241m=\u001b[39m \u001b[38;5;124m'\u001b[39m\u001b[38;5;124m/mntmodels/boyuan/learnspace/AI_gov/raw_data/research_data/patent_data_all/patent_final/patent_final.json\u001b[39m\u001b[38;5;124m'\u001b[39m\n\u001b[1;32m      3\u001b[0m \u001b[38;5;28;01mwith\u001b[39;00m \u001b[38;5;28mopen\u001b[39m(output_file,\u001b[38;5;124m'\u001b[39m\u001b[38;5;124mw\u001b[39m\u001b[38;5;124m'\u001b[39m,encoding\u001b[38;5;241m=\u001b[39m\u001b[38;5;124m'\u001b[39m\u001b[38;5;124mutf-8\u001b[39m\u001b[38;5;124m'\u001b[39m) \u001b[38;5;28;01mas\u001b[39;00m f:\n\u001b[0;32m----> 4\u001b[0m     json\u001b[38;5;241m.\u001b[39mdump(\u001b[43mpatent_enter_data\u001b[49m,f,indent\u001b[38;5;241m=\u001b[39m\u001b[38;5;241m2\u001b[39m,ensure_ascii\u001b[38;5;241m=\u001b[39m\u001b[38;5;28;01mFalse\u001b[39;00m)\n",
      "\u001b[0;31mNameError\u001b[0m: name 'patent_enter_data' is not defined"
     ]
    }
   ],
   "source": [
    "import json\n",
    "output_file = '/mntmodels/boyuan/learnspace/AI_gov/raw_data/research_data/patent_data_all/patent_final/patent_final.json'\n",
    "with open(output_file,'w',encoding='utf-8') as f:\n",
    "    json.dump(patent_enter_data,f,indent=2,ensure_ascii=False)\n"
   ]
  },
  {
   "cell_type": "code",
   "execution_count": null,
   "metadata": {},
   "outputs": [],
   "source": []
  }
 ],
 "metadata": {
  "kernelspec": {
   "display_name": "scalable-correction",
   "language": "python",
   "name": "python3"
  },
  "language_info": {
   "codemirror_mode": {
    "name": "ipython",
    "version": 3
   },
   "file_extension": ".py",
   "mimetype": "text/x-python",
   "name": "python",
   "nbconvert_exporter": "python",
   "pygments_lexer": "ipython3",
   "version": "3.10.13"
  }
 },
 "nbformat": 4,
 "nbformat_minor": 2
}
