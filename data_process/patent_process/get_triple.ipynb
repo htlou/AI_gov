{
 "cells": [
  {
   "cell_type": "code",
   "execution_count": 1,
   "metadata": {},
   "outputs": [
    {
     "name": "stderr",
     "output_type": "stream",
     "text": [
      "100%|██████████| 1965/1965 [00:00<00:00, 617410.10it/s]\n"
     ]
    }
   ],
   "source": [
    "# 得到三元组dataset\n",
    "# 直接在原json的最后进行添加\n",
    "import json\n",
    "from tqdm import tqdm\n",
    "patent_input = '/mntmodels/boyuan/learnspace/AI_gov/raw_data/research_data/patent_data_all/patent_final/patent_final.json'\n",
    "with open(patent_input,'r') as f:\n",
    "    patent_data = json.load(f)\n",
    "for entry in tqdm(patent_data):\n",
    "    entry['triple'] = {\n",
    "        'patent':{\n",
    "            'enterprise_name':entry['主申请人名称'],\n",
    "            'relationship':'开发',\n",
    "            'patent_name':entry['专利名称'],\n",
    "        },\n",
    "        'category' :{\n",
    "            'patent_name':entry['专利名称'],\n",
    "            'relationship':'属于',\n",
    "            'category_name':entry['国民经济行业分类名称']\n",
    "        }\n",
    "    }\n"
   ]
  },
  {
   "cell_type": "code",
   "execution_count": 3,
   "metadata": {},
   "outputs": [
    {
     "name": "stdout",
     "output_type": "stream",
     "text": [
      "{'专利号': 'CN108847497B', '专利名称': '一种车用燃料电池热管理系统', '专利类型': '发明授权', '申请日': '2018-05-28', '公开日': '2018-11-20', '授权日': '2020-09-11', '专利代理机构': '武汉知产时代知识产权代理有限公司', '专利法律状态': '发明专利权授予', '申请人类型': '企业', '主申请人名称': '湖北雷迪特冷却系统股份有限公司', '主申请人地址': '430119 湖北省武汉市武汉经济技术开发区军山街凤凰工业园凤亭南路2号', '主申请人地址国家': 'CHN', '累计被引用量': '.', '主分类号': 'H01M8/04007(2016.01)', '专利分类号': 'H01M8/04007(2016.01);H01M8/04029(2016.01);H01M8/04223(2016.01);H01M8/04225(2016.01);H01M8/0432(2016.01);H01M8/04701(2016.01);B60L58/33(2019.01);B60L58/34(2019.01)', '专利分类号数量': 8.0, '国民经济行业分类代码': 3463.0, '国民经济行业分类名称': '气体、液体分离及纯净设备制造', 'triple': {'patent': {'enterprise_name': '湖北雷迪特冷却系统股份有限公司', 'relationship': '开发', 'patent_name': '一种车用燃料电池热管理系统'}, 'category': {'patent_name': '一种车用燃料电池热管理系统', 'relationship': '属于', 'category_name': '气体、液体分离及纯净设备制造'}}}\n"
     ]
    }
   ],
   "source": [
    "print(patent_data[0])\n",
    "output_file = '/mntmodels/boyuan/learnspace/AI_gov/raw_data/research_data/patent_data_all/patent_final/patent_final_triple.json'\n",
    "with open(output_file,'w',encoding='utf-8') as f:\n",
    "    json.dump(patent_data,f,indent=2,ensure_ascii=False)"
   ]
  },
  {
   "cell_type": "code",
   "execution_count": null,
   "metadata": {},
   "outputs": [],
   "source": []
  }
 ],
 "metadata": {
  "kernelspec": {
   "display_name": "scalable-correction",
   "language": "python",
   "name": "python3"
  },
  "language_info": {
   "codemirror_mode": {
    "name": "ipython",
    "version": 3
   },
   "file_extension": ".py",
   "mimetype": "text/x-python",
   "name": "python",
   "nbconvert_exporter": "python",
   "pygments_lexer": "ipython3",
   "version": "3.10.13"
  }
 },
 "nbformat": 4,
 "nbformat_minor": 2
}
