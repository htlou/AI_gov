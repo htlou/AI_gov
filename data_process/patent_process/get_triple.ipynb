{
 "cells": [
  {
   "cell_type": "code",
   "execution_count": 1,
   "metadata": {},
   "outputs": [
    {
     "name": "stderr",
     "output_type": "stream",
     "text": [
      "100%|██████████| 1129/1129 [00:00<00:00, 555338.25it/s]\n"
     ]
    }
   ],
   "source": [
    "# 得到三元组dataset\n",
    "# 直接在原json的最后进行添加\n",
    "import json\n",
    "from tqdm import tqdm\n",
    "patent_input = '/mntmodels/boyuan/learnspace/AI_gov/raw_data/research_data/patent_data_all/patent_final/patent_final_48.json'\n",
    "with open(patent_input,'r') as f:\n",
    "    patent_data = json.load(f)\n",
    "for entry in tqdm(patent_data):\n",
    "    entry['triple'] = {\n",
    "        'patent':{\n",
    "            'enterprise_name':entry['主申请人名称'],\n",
    "            'relationship':'开发',\n",
    "            'patent_name':entry['专利名称'],\n",
    "        },\n",
    "        'category' :{\n",
    "            'patent_name':entry['专利名称'],\n",
    "            'relationship':'属于',\n",
    "            'category_name':entry['国民经济行业分类名称']\n",
    "        }\n",
    "    }\n"
   ]
  },
  {
   "cell_type": "code",
   "execution_count": 2,
   "metadata": {},
   "outputs": [
    {
     "name": "stdout",
     "output_type": "stream",
     "text": [
      "{'专利号': 'CN109406025B', '专利名称': '压力测试方法、装置及电子设备', '专利类型': '发明授权', '申请日': '2018-10-16', '公开日': '2019-03-01', '授权日': '2020-12-15', '专利代理机构': '北京众达德权知识产权代理有限公司', '专利法律状态': '发明专利权授予', '申请人类型': '企业', '主申请人名称': '武汉斗鱼网络科技有限公司', '主申请人地址': '430000 湖北省武汉市东湖开发区软件园东路1号软件产业4.1期B1栋11楼', '主申请人地址国家': 'CHN', '累计被引用量': '.', '主分类号': 'G01L5/00(2006.01)', '专利分类号': 'G01L5/00(2006.01)', '专利分类号数量': 1.0, '国民经济行业分类代码': 4090.0, '国民经济行业分类名称': '其他仪器仪表制造业', '大类': '研发与设计电气设备生产', '子类别': '专用技术研发与设计汽车测试电控系统生产', 'triple': {'patent': {'enterprise_name': '武汉斗鱼网络科技有限公司', 'relationship': '开发', 'patent_name': '压力测试方法、装置及电子设备'}, 'category': {'patent_name': '压力测试方法、装置及电子设备', 'relationship': '属于', 'category_name': '其他仪器仪表制造业'}}}\n"
     ]
    }
   ],
   "source": [
    "print(patent_data[0])\n",
    "output_file = '/mntmodels/boyuan/learnspace/AI_gov/raw_data/research_data/patent_data_all/patent_final/patent_final_triple_48.json'\n",
    "with open(output_file,'w',encoding='utf-8') as f:\n",
    "    json.dump(patent_data,f,indent=2,ensure_ascii=False)"
   ]
  },
  {
   "cell_type": "code",
   "execution_count": null,
   "metadata": {},
   "outputs": [],
   "source": []
  }
 ],
 "metadata": {
  "kernelspec": {
   "display_name": "scalable-correction",
   "language": "python",
   "name": "python3"
  },
  "language_info": {
   "codemirror_mode": {
    "name": "ipython",
    "version": 3
   },
   "file_extension": ".py",
   "mimetype": "text/x-python",
   "name": "python",
   "nbconvert_exporter": "python",
   "pygments_lexer": "ipython3",
   "version": "3.10.13"
  }
 },
 "nbformat": 4,
 "nbformat_minor": 2
}
